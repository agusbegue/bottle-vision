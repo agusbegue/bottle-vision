{
  "nbformat": 4,
  "nbformat_minor": 0,
  "metadata": {
    "accelerator": "GPU",
    "colab": {
      "name": "training.ipynb",
      "provenance": [],
      "collapsed_sections": [
        "qJpomuV-h9qN",
        "3GNcq6ihDu7X",
        "KLplHCEqiaqr"
      ]
    },
    "kernelspec": {
      "display_name": "Python 3",
      "name": "python3"
    },
    "language_info": {
      "name": "python"
    }
  },
  "cells": [
    {
      "cell_type": "markdown",
      "metadata": {
        "id": "a6FSPigfgO2D"
      },
      "source": [
        "# Classification model training\n",
        "In this notebook the classification model training (detecting if the bottle has cap or not) takes place\n",
        "\n",
        "1) It receives as input labeled videos of bottles (with cap and with no cap in the video name). This is done so labeling is only done per video and not per image\n",
        "\n",
        "2) It gets the frames of the video using a defined frequency of extraction\n",
        "\n",
        "3) It sends the images to the object detection API so that we can crop just the bottle\n",
        "\n",
        "4) It trains the Keras model, using a pretrained model (Xception layer), max pools the result, and feeds a single hidden dense layer and then feeds the output layer (1 neuron). The Xception model's weights are frozen so we can take advantage of what it learned on the ImageNet dataset, and then tune the last two layers to learn the complexity of this new problem\n",
        "\n",
        "5) Evaluation of results and saving of the model"
      ]
    },
    {
      "cell_type": "markdown",
      "metadata": {
        "id": "xirrsgMoP64m"
      },
      "source": [
        "You can access the Colab version of the notebook [here](https://colab.research.google.com/drive/19BKppxO-b2XF7X0LhDdnaHqAJ0IzC_eN?usp=sharing)"
      ]
    },
    {
      "cell_type": "code",
      "metadata": {
        "id": "F69mibEvfXv8",
        "colab": {
          "base_uri": "https://localhost:8080/"
        },
        "outputId": "576a7a8b-ada9-4a1e-fa9e-4b2548befb89"
      },
      "source": [
        "from google.colab import drive\n",
        "drive.mount('/content/drive')"
      ],
      "execution_count": 20,
      "outputs": [
        {
          "output_type": "stream",
          "name": "stdout",
          "text": [
            "Drive already mounted at /content/drive; to attempt to forcibly remount, call drive.mount(\"/content/drive\", force_remount=True).\n"
          ]
        }
      ]
    },
    {
      "cell_type": "code",
      "metadata": {
        "id": "u2V16wEwSJPD"
      },
      "source": [
        "import os\n",
        "import json\n",
        "import numpy as np\n",
        "import requests\n",
        "from tqdm import tqdm\n",
        "import matplotlib.pyplot as plt\n",
        "import cv2\n",
        "import h5py\n",
        "\n",
        "base_dir = 'drive/MyDrive/computer_vision/'\n",
        "videos_dir = base_dir+'videos/'\n",
        "raw_images_dir = base_dir+'images/raw/'\n",
        "cropped_images_dir = base_dir+'images/cropped/'\n",
        "data_dir = base_dir+'input/'\n",
        "models_dir = base_dir+'models/'"
      ],
      "execution_count": 21,
      "outputs": []
    },
    {
      "cell_type": "markdown",
      "metadata": {
        "id": "qJpomuV-h9qN"
      },
      "source": [
        "#### **Split videos into frames**"
      ]
    },
    {
      "cell_type": "code",
      "metadata": {
        "id": "tjbNq1HWsUXq"
      },
      "source": [
        "extract_frame_frequency = 10"
      ],
      "execution_count": null,
      "outputs": []
    },
    {
      "cell_type": "code",
      "metadata": {
        "colab": {
          "base_uri": "https://localhost:8080/"
        },
        "id": "NSCO7ylniCD1",
        "outputId": "f776976e-b5c1-4762-9a48-dd47c3e6f55e"
      },
      "source": [
        "for path in tqdm(os.listdir(videos_dir), position=0, leave=True):\n",
        "  vidcap = cv2.VideoCapture(videos_dir+path)\n",
        "  success, image = vidcap.read()\n",
        "  count = 1\n",
        "  while success:\n",
        "    if count%extract_frame_frequency == 1:\n",
        "      output_path = raw_images_dir+path.split('.')[0]+'_'+str(int(count/extract_frame_frequency)+1)+'.jpg'\n",
        "      cv2.imwrite(output_path, cv2.rotate(image, cv2.ROTATE_90_CLOCKWISE))    \n",
        "    success, image = vidcap.read()\n",
        "    count += 1\n",
        "  vidcap.release()\n",
        "print(f'\\nDone: processed {len(os.listdir(videos_dir))} videos into {len(os.listdir(raw_images_dir))} images')"
      ],
      "execution_count": null,
      "outputs": [
        {
          "output_type": "stream",
          "text": [
            "100%|██████████| 35/35 [02:32<00:00,  4.04s/it]\n",
            "\n",
            "\n",
            "\u001b[A\u001b[A\u001b[A\n",
            "\u001b[A\n",
            "\n",
            "100%|██████████| 35/35 [02:32<00:00,  4.37s/it]"
          ],
          "name": "stderr"
        },
        {
          "output_type": "stream",
          "text": [
            "\n",
            "Done: processed 35 videos into 581 images\n"
          ],
          "name": "stdout"
        },
        {
          "output_type": "stream",
          "text": [
            "\n"
          ],
          "name": "stderr"
        }
      ]
    },
    {
      "cell_type": "markdown",
      "metadata": {
        "id": "3GNcq6ihDu7X"
      },
      "source": [
        "#### **Crop bottles from images**"
      ]
    },
    {
      "cell_type": "code",
      "metadata": {
        "id": "qk_FyJIuD2dL"
      },
      "source": [
        "url = \"http://{YOUR_URL}:8501/v1/models/efficientdet:predict\"\n",
        "BOTTLE_INDEX = 44\n",
        "THRESH = 0.23"
      ],
      "execution_count": null,
      "outputs": []
    },
    {
      "cell_type": "code",
      "metadata": {
        "colab": {
          "background_save": true,
          "base_uri": "https://localhost:8080/"
        },
        "id": "zKTDp-MuEz6c",
        "outputId": "10ebe96d-dd16-45a9-aa84-43d129edaf1f"
      },
      "source": [
        "exp = 0.02\n",
        "for path in tqdm(os.listdir(raw_images_dir), position=0, leave=True):\n",
        "  image = cv2.imread(raw_images_dir+path)\n",
        "  infs = requests.post(url=url, data=json.dumps({'instances': [image.astype('uint8').tolist()]}))\n",
        "  infs = json.loads(infs.content.decode('utf-8'))['predictions'][0]\n",
        "  indexes = [i for i in range(int(infs['num_detections']))\n",
        "               if infs['detection_classes'][i] == BOTTLE_INDEX\n",
        "               and infs['detection_scores'][i] > THRESH]\n",
        "  boxes = sorted([infs['detection_boxes'][i] for i in indexes],\n",
        "                 key=lambda f: (f[2]-f[0])*(f[3]-f[1]), reverse=True)\n",
        "  if boxes:\n",
        "    bb = boxes[0]\n",
        "    h, w, d = image.shape\n",
        "    cropped_img = image[max(0, int(h*(bb[0]-exp))): min(h, int(h*(bb[2]+exp))),\n",
        "                        max(0, int(w*(bb[1]-exp))): min(h, int(w*(bb[3]+exp)))]\n",
        "    cv2.imwrite(cropped_images_dir+path, cropped_img)\n",
        "  else:\n",
        "    print(f'\\nNo predictions for {path}')"
      ],
      "execution_count": null,
      "outputs": [
        {
          "output_type": "stream",
          "text": [
            " 95%|█████████▌| 716/750 [29:56<07:19, 12.92s/it]"
          ],
          "name": "stderr"
        }
      ]
    },
    {
      "cell_type": "markdown",
      "metadata": {
        "id": "KLplHCEqiaqr"
      },
      "source": [
        "#### **Processing images into keras format**"
      ]
    },
    {
      "cell_type": "code",
      "metadata": {
        "id": "EEDHi_aTgrf7"
      },
      "source": [
        "version = 1\n",
        "SIZE = (600, 200, 3)"
      ],
      "execution_count": null,
      "outputs": []
    },
    {
      "cell_type": "code",
      "metadata": {
        "colab": {
          "base_uri": "https://localhost:8080/"
        },
        "id": "poAmko2Mfg4W",
        "outputId": "c53a0e34-4929-415f-e5a5-956e13cf9149"
      },
      "source": [
        "X = {'train': [], 'test': []}\n",
        "y = {'train': [], 'test': []}\n",
        "for path in tqdm(sorted(os.listdir(cropped_images_dir)), position=0, leave=True):\n",
        "  image = cv2.imread(cropped_images_dir+path)\n",
        "  image = cv2.resize(image, (SIZE[1], SIZE[0]), interpolation = cv2.INTER_AREA)\n",
        "  if 'test' in path:\n",
        "    X['test'].append(image)\n",
        "    y['test'].append([0 if 'nocap' in path else 1])\n",
        "  else:\n",
        "    X['train'].append(image)\n",
        "    y['train'].append([0 if 'nocap' in path else 1])"
      ],
      "execution_count": null,
      "outputs": [
        {
          "output_type": "stream",
          "text": [
            "100%|█████████▉| 553/555 [00:09<00:00, 62.39it/s]\n",
            "100%|██████████| 555/555 [00:09<00:00, 59.81it/s]\n"
          ],
          "name": "stderr"
        }
      ]
    },
    {
      "cell_type": "code",
      "metadata": {
        "id": "koQcg7nuUPQ8"
      },
      "source": [
        "with h5py.File(f'{data_dir}data_v{version}.h5', 'w') as f:\n",
        "  f.create_dataset('X_train', data=np.array(X['train']))\n",
        "  f.create_dataset('X_test', data=np.array(X['test']))\n",
        "  f.create_dataset('y_train', data=np.array(y['train']))\n",
        "  f.create_dataset('y_test', data=np.array(y['test']))"
      ],
      "execution_count": null,
      "outputs": []
    },
    {
      "cell_type": "markdown",
      "metadata": {
        "id": "vF3dc1CB2YWE"
      },
      "source": [
        "#### **Train keras model**"
      ]
    },
    {
      "cell_type": "code",
      "metadata": {
        "id": "lK4NhE1l-S4o"
      },
      "source": [
        "data_version = 1\n",
        "model_version = 3\n",
        "SIZE = (600, 200, 3)\n",
        "augment_images = True"
      ],
      "execution_count": 22,
      "outputs": []
    },
    {
      "cell_type": "code",
      "metadata": {
        "id": "H-KHsWiAq8GJ"
      },
      "source": [
        "from keras import Sequential\n",
        "from keras.layers import Dense, Dropout, InputLayer, Layer, BatchNormalization\n",
        "from keras.regularizers import l2\n",
        "from keras.callbacks import ModelCheckpoint\n",
        "from tensorflow.keras.applications import Xception\n",
        "from keras.preprocessing.image import ImageDataGenerator\n",
        "from sklearn.utils import shuffle\n",
        "from sklearn.metrics import roc_auc_score, accuracy_score"
      ],
      "execution_count": 23,
      "outputs": []
    },
    {
      "cell_type": "code",
      "metadata": {
        "id": "XJDNT1gBkKbf"
      },
      "source": [
        "with h5py.File(f'{data_dir}data_v{data_version}.h5', 'r') as f:\n",
        "    X_train = np.zeros(shape=f['X_train'].shape)\n",
        "    f['X_train'].read_direct(X_train)\n",
        "    X_test = np.zeros(shape=f['X_test'].shape)\n",
        "    f['X_test'].read_direct(X_test)\n",
        "    y_train = np.zeros(shape=f['y_train'].shape)\n",
        "    f['y_train'].read_direct(y_train)\n",
        "    y_test = np.zeros(shape=f['y_test'].shape)\n",
        "    f['y_test'].read_direct(y_test)"
      ],
      "execution_count": null,
      "outputs": []
    },
    {
      "cell_type": "code",
      "metadata": {
        "id": "1NkPF3H72bci"
      },
      "source": [
        "def rescale(data, to_255=False):\n",
        "    if to_255:\n",
        "        return np.multiply(np.add(data, 1), 255/2).astype(np.int32)\n",
        "    return np.add(np.multiply(data, 2/255), -1)"
      ],
      "execution_count": null,
      "outputs": []
    },
    {
      "cell_type": "code",
      "metadata": {
        "id": "Yc4stVNS2lvJ"
      },
      "source": [
        "X_train, y_train = shuffle(X_train, y_train)\n",
        "X_test, y_test = shuffle(X_test, y_test)"
      ],
      "execution_count": null,
      "outputs": []
    },
    {
      "cell_type": "code",
      "metadata": {
        "id": "2tzr7Umi4YMK"
      },
      "source": [
        "datagen = ImageDataGenerator(\n",
        "    horizontal_flip=True,\n",
        "    rotation_range=20,\n",
        "    width_shift_range=0.2,\n",
        "    brightness_range=(0.6, 1.4),\n",
        "    zoom_range=(1, 1.3),\n",
        "    fill_mode='nearest',\n",
        "    preprocessing_function=rescale,\n",
        "    validation_split=0.15\n",
        ")"
      ],
      "execution_count": null,
      "outputs": []
    },
    {
      "cell_type": "code",
      "metadata": {
        "id": "qG2YPKabcgFx"
      },
      "source": [
        "class ApplicationLayer(Layer):\n",
        "\n",
        "  def __init__(self, application, **kwargs):\n",
        "      self.application = application\n",
        "      self.app_params = {param: kwargs.pop(param) for param in kwargs.copy().keys()}\n",
        "      self.functional = self.application(**self.app_params)\n",
        "      super().__init__(**kwargs)\n",
        "      for layer in self.functional.layers:\n",
        "          layer.trainable = False\n",
        "\n",
        "  def call(self, inputs):\n",
        "      return self.functional(inputs)\n",
        "\n",
        "  def get_config(self):\n",
        "      config = super().get_config().copy()\n",
        "      config.update({\n",
        "          'application': self.application,\n",
        "          'app_params': self.app_params\n",
        "      })\n",
        "      return config"
      ],
      "execution_count": 24,
      "outputs": []
    },
    {
      "cell_type": "code",
      "metadata": {
        "id": "pTVsIApZraKi"
      },
      "source": [
        "xception_config = {\n",
        "    'include_top': False,\n",
        "    'weights': 'imagenet',\n",
        "    'pooling': 'max',\n",
        "}\n",
        "\n",
        "model = Sequential()\n",
        "model.add(InputLayer(input_shape=SIZE))\n",
        "model.add(ApplicationLayer(Xception, **xception_config))\n",
        "model.add(BatchNormalization())\n",
        "model.add(Dropout(0.5))\n",
        "model.add(Dense(1024, activation='relu', kernel_regularizer=l2(0.01), bias_regularizer=l2(0.01)))\n",
        "model.add(BatchNormalization())\n",
        "model.add(Dropout(0.5))\n",
        "model.add(Dense(1, activation='sigmoid'))"
      ],
      "execution_count": 25,
      "outputs": []
    },
    {
      "cell_type": "code",
      "metadata": {
        "colab": {
          "base_uri": "https://localhost:8080/"
        },
        "id": "-q-cCJpgDWsq",
        "outputId": "e9a99bd3-a19e-4837-bb01-1aab894f60e8"
      },
      "source": [
        "model.summary()"
      ],
      "execution_count": null,
      "outputs": [
        {
          "output_type": "stream",
          "name": "stdout",
          "text": [
            "Model: \"sequential\"\n",
            "_________________________________________________________________\n",
            "Layer (type)                 Output Shape              Param #   \n",
            "=================================================================\n",
            "application_layer (Applicati (None, 2048)              20861480  \n",
            "_________________________________________________________________\n",
            "batch_normalization_4 (Batch (None, 2048)              8192      \n",
            "_________________________________________________________________\n",
            "dropout (Dropout)            (None, 2048)              0         \n",
            "_________________________________________________________________\n",
            "dense (Dense)                (None, 1024)              2098176   \n",
            "_________________________________________________________________\n",
            "batch_normalization_5 (Batch (None, 1024)              4096      \n",
            "_________________________________________________________________\n",
            "dropout_1 (Dropout)          (None, 1024)              0         \n",
            "_________________________________________________________________\n",
            "dense_1 (Dense)              (None, 1)                 1025      \n",
            "=================================================================\n",
            "Total params: 22,972,969\n",
            "Trainable params: 2,105,345\n",
            "Non-trainable params: 20,867,624\n",
            "_________________________________________________________________\n"
          ]
        }
      ]
    },
    {
      "cell_type": "code",
      "metadata": {
        "id": "Y3KOwLg3DUEO"
      },
      "source": [
        "checkpointer = ModelCheckpoint(f'{models_dir}/model_best_v{model_version}.hdf5', monitor='val_auc', save_best_only=True, verbose=0)\n",
        "model.compile(loss='binary_crossentropy',\n",
        "              optimizer='adam',\n",
        "              metrics=['acc', 'AUC'])"
      ],
      "execution_count": null,
      "outputs": []
    },
    {
      "cell_type": "code",
      "metadata": {
        "colab": {
          "base_uri": "https://localhost:8080/"
        },
        "id": "4PrO-Dqv5PR_",
        "outputId": "fd5dca35-72de-40b2-e8a3-dccb995d1afb"
      },
      "source": [
        "if augment_images:   \n",
        "    history = model.fit(datagen.flow(X_train, y_train, batch_size=64, subset='training'),\n",
        "                        validation_data=datagen.flow(X_train, y_train, batch_size=8, subset='validation'),\n",
        "                        steps_per_epoch=len(X_train) // 64,\n",
        "                        shuffle=True,\n",
        "                        callbacks=[checkpointer],\n",
        "                        epochs=100)\n",
        "else:\n",
        "    history = model.fit(X_train, y_train, epochs=100,\n",
        "                        batch_size=64,\n",
        "                        validation_data=(X_val, y_val),\n",
        "                        callbacks=[checkpointer])"
      ],
      "execution_count": null,
      "outputs": [
        {
          "output_type": "stream",
          "name": "stdout",
          "text": [
            "Epoch 1/100\n",
            "7/7 [==============================] - 59s 3s/step - loss: 13.8985 - acc: 0.6364 - auc: 0.7105 - val_loss: 12.8136 - val_acc: 0.7612 - val_auc: 0.8705\n",
            "Epoch 2/100\n",
            "7/7 [==============================] - 21s 3s/step - loss: 12.0655 - acc: 0.7974 - auc: 0.8857 - val_loss: 12.5897 - val_acc: 0.5970 - val_auc: 0.8732\n",
            "Epoch 3/100\n",
            "7/7 [==============================] - 20s 3s/step - loss: 10.8207 - acc: 0.8494 - auc: 0.9160 - val_loss: 10.5526 - val_acc: 0.7164 - val_auc: 0.9125\n",
            "Epoch 4/100\n",
            "7/7 [==============================] - 20s 3s/step - loss: 9.4352 - acc: 0.8935 - auc: 0.9480 - val_loss: 9.6957 - val_acc: 0.6567 - val_auc: 0.8835\n",
            "Epoch 5/100\n",
            "7/7 [==============================] - 19s 3s/step - loss: 8.4760 - acc: 0.8909 - auc: 0.9637 - val_loss: 8.6379 - val_acc: 0.6866 - val_auc: 0.8540\n",
            "Epoch 6/100\n",
            "7/7 [==============================] - 21s 3s/step - loss: 7.5476 - acc: 0.8753 - auc: 0.9504 - val_loss: 7.5379 - val_acc: 0.7612 - val_auc: 0.9031\n",
            "Epoch 7/100\n",
            "7/7 [==============================] - 20s 3s/step - loss: 6.7715 - acc: 0.8935 - auc: 0.9586 - val_loss: 6.6870 - val_acc: 0.7463 - val_auc: 0.9504\n",
            "Epoch 8/100\n",
            "7/7 [==============================] - 20s 3s/step - loss: 5.9535 - acc: 0.9325 - auc: 0.9825 - val_loss: 5.9560 - val_acc: 0.7612 - val_auc: 0.9942\n",
            "Epoch 9/100\n",
            "7/7 [==============================] - 20s 3s/step - loss: 5.3897 - acc: 0.9325 - auc: 0.9767 - val_loss: 5.5255 - val_acc: 0.8060 - val_auc: 0.9116\n",
            "Epoch 10/100\n",
            "7/7 [==============================] - 20s 3s/step - loss: 4.9363 - acc: 0.9169 - auc: 0.9700 - val_loss: 4.7273 - val_acc: 0.8806 - val_auc: 0.9679\n",
            "Epoch 11/100\n",
            "7/7 [==============================] - 20s 3s/step - loss: 4.4217 - acc: 0.9221 - auc: 0.9706 - val_loss: 4.2344 - val_acc: 0.8955 - val_auc: 0.9781\n",
            "Epoch 12/100\n",
            "7/7 [==============================] - 19s 3s/step - loss: 3.9538 - acc: 0.9325 - auc: 0.9837 - val_loss: 4.0256 - val_acc: 0.8507 - val_auc: 0.9268\n",
            "Epoch 13/100\n",
            "7/7 [==============================] - 20s 3s/step - loss: 3.6114 - acc: 0.9377 - auc: 0.9837 - val_loss: 3.6133 - val_acc: 0.8657 - val_auc: 0.9522\n",
            "Epoch 14/100\n",
            "7/7 [==============================] - 20s 3s/step - loss: 3.3362 - acc: 0.9195 - auc: 0.9752 - val_loss: 3.2505 - val_acc: 0.9104 - val_auc: 0.9527\n",
            "Epoch 15/100\n",
            "7/7 [==============================] - 20s 3s/step - loss: 3.0841 - acc: 0.9117 - auc: 0.9754 - val_loss: 2.9125 - val_acc: 0.9104 - val_auc: 0.9772\n",
            "Epoch 16/100\n",
            "7/7 [==============================] - 19s 3s/step - loss: 2.8207 - acc: 0.9143 - auc: 0.9752 - val_loss: 2.7260 - val_acc: 0.8955 - val_auc: 0.9723\n",
            "Epoch 17/100\n",
            "7/7 [==============================] - 20s 3s/step - loss: 2.5606 - acc: 0.9403 - auc: 0.9870 - val_loss: 2.5957 - val_acc: 0.8806 - val_auc: 0.9563\n",
            "Epoch 18/100\n",
            "7/7 [==============================] - 19s 3s/step - loss: 2.5141 - acc: 0.9169 - auc: 0.9647 - val_loss: 2.3495 - val_acc: 0.8955 - val_auc: 0.9723\n",
            "Epoch 19/100\n",
            "7/7 [==============================] - 20s 3s/step - loss: 2.2457 - acc: 0.9429 - auc: 0.9847 - val_loss: 2.2264 - val_acc: 0.9552 - val_auc: 0.9679\n",
            "Epoch 20/100\n",
            "7/7 [==============================] - 20s 3s/step - loss: 2.1090 - acc: 0.9299 - auc: 0.9817 - val_loss: 2.2351 - val_acc: 0.8209 - val_auc: 0.9326\n",
            "Epoch 21/100\n",
            "7/7 [==============================] - 19s 3s/step - loss: 1.9574 - acc: 0.9377 - auc: 0.9872 - val_loss: 2.0104 - val_acc: 0.9104 - val_auc: 0.9670\n",
            "Epoch 22/100\n",
            "7/7 [==============================] - 20s 3s/step - loss: 1.8612 - acc: 0.9429 - auc: 0.9773 - val_loss: 1.9609 - val_acc: 0.9104 - val_auc: 0.9433\n",
            "Epoch 23/100\n",
            "7/7 [==============================] - 20s 3s/step - loss: 1.7497 - acc: 0.9221 - auc: 0.9809 - val_loss: 1.7702 - val_acc: 0.9254 - val_auc: 0.9612\n",
            "Epoch 24/100\n",
            "7/7 [==============================] - 19s 3s/step - loss: 1.6771 - acc: 0.9143 - auc: 0.9771 - val_loss: 1.7214 - val_acc: 0.9104 - val_auc: 0.9652\n",
            "Epoch 25/100\n",
            "7/7 [==============================] - 20s 3s/step - loss: 1.5813 - acc: 0.9273 - auc: 0.9770 - val_loss: 1.5990 - val_acc: 0.9254 - val_auc: 0.9759\n",
            "Epoch 26/100\n",
            "7/7 [==============================] - 20s 3s/step - loss: 1.5021 - acc: 0.9221 - auc: 0.9793 - val_loss: 1.5236 - val_acc: 0.9104 - val_auc: 0.9790\n",
            "Epoch 27/100\n",
            "7/7 [==============================] - 20s 3s/step - loss: 1.5474 - acc: 0.9091 - auc: 0.9635 - val_loss: 1.3935 - val_acc: 0.9254 - val_auc: 0.9906\n",
            "Epoch 28/100\n",
            "7/7 [==============================] - 20s 3s/step - loss: 1.3549 - acc: 0.9377 - auc: 0.9874 - val_loss: 1.3310 - val_acc: 0.9403 - val_auc: 0.9866\n",
            "Epoch 29/100\n",
            "7/7 [==============================] - 20s 3s/step - loss: 1.3101 - acc: 0.9403 - auc: 0.9850 - val_loss: 1.5123 - val_acc: 0.8657 - val_auc: 0.9366\n",
            "Epoch 30/100\n",
            "7/7 [==============================] - 19s 3s/step - loss: 1.2704 - acc: 0.9455 - auc: 0.9808 - val_loss: 1.3672 - val_acc: 0.8955 - val_auc: 0.9567\n",
            "Epoch 31/100\n",
            "7/7 [==============================] - 20s 3s/step - loss: 1.2160 - acc: 0.9455 - auc: 0.9824 - val_loss: 1.3085 - val_acc: 0.9254 - val_auc: 0.9589\n",
            "Epoch 32/100\n",
            "7/7 [==============================] - 20s 3s/step - loss: 1.2322 - acc: 0.9247 - auc: 0.9714 - val_loss: 1.2626 - val_acc: 0.8955 - val_auc: 0.9585\n",
            "Epoch 33/100\n",
            "7/7 [==============================] - 19s 3s/step - loss: 1.1235 - acc: 0.9377 - auc: 0.9834 - val_loss: 1.1893 - val_acc: 0.8955 - val_auc: 0.9732\n",
            "Epoch 34/100\n",
            "7/7 [==============================] - 20s 3s/step - loss: 1.1303 - acc: 0.9247 - auc: 0.9725 - val_loss: 1.0624 - val_acc: 0.9403 - val_auc: 0.9871\n",
            "Epoch 35/100\n",
            "7/7 [==============================] - 20s 3s/step - loss: 1.0308 - acc: 0.9429 - auc: 0.9895 - val_loss: 1.1622 - val_acc: 0.9254 - val_auc: 0.9603\n",
            "Epoch 36/100\n",
            "7/7 [==============================] - 19s 3s/step - loss: 1.0472 - acc: 0.9351 - auc: 0.9823 - val_loss: 1.0921 - val_acc: 0.9254 - val_auc: 0.9710\n",
            "Epoch 37/100\n",
            "7/7 [==============================] - 20s 3s/step - loss: 0.9807 - acc: 0.9455 - auc: 0.9880 - val_loss: 1.0141 - val_acc: 0.9254 - val_auc: 0.9830\n",
            "Epoch 38/100\n",
            "7/7 [==============================] - 20s 3s/step - loss: 0.9599 - acc: 0.9558 - auc: 0.9841 - val_loss: 0.9919 - val_acc: 0.9254 - val_auc: 0.9759\n",
            "Epoch 39/100\n",
            "7/7 [==============================] - 20s 3s/step - loss: 0.9265 - acc: 0.9429 - auc: 0.9863 - val_loss: 0.9197 - val_acc: 0.9254 - val_auc: 0.9857\n",
            "Epoch 40/100\n",
            "7/7 [==============================] - 20s 3s/step - loss: 0.8925 - acc: 0.9532 - auc: 0.9870 - val_loss: 1.0879 - val_acc: 0.8657 - val_auc: 0.9487\n",
            "Epoch 41/100\n",
            "7/7 [==============================] - 19s 3s/step - loss: 0.9494 - acc: 0.9221 - auc: 0.9735 - val_loss: 1.0280 - val_acc: 0.9254 - val_auc: 0.9518\n",
            "Epoch 42/100\n",
            "7/7 [==============================] - 19s 3s/step - loss: 0.8789 - acc: 0.9299 - auc: 0.9840 - val_loss: 0.8942 - val_acc: 0.9254 - val_auc: 0.9848\n",
            "Epoch 43/100\n",
            "7/7 [==============================] - 20s 3s/step - loss: 0.9170 - acc: 0.9247 - auc: 0.9773 - val_loss: 1.0039 - val_acc: 0.8806 - val_auc: 0.9634\n",
            "Epoch 44/100\n",
            "7/7 [==============================] - 20s 3s/step - loss: 0.9211 - acc: 0.9247 - auc: 0.9747 - val_loss: 0.8603 - val_acc: 0.9851 - val_auc: 0.9777\n",
            "Epoch 45/100\n",
            "7/7 [==============================] - 20s 3s/step - loss: 0.8370 - acc: 0.9532 - auc: 0.9903 - val_loss: 0.8595 - val_acc: 0.9403 - val_auc: 0.9884\n",
            "Epoch 46/100\n",
            "7/7 [==============================] - 20s 3s/step - loss: 0.8834 - acc: 0.9247 - auc: 0.9820 - val_loss: 0.8142 - val_acc: 0.9552 - val_auc: 0.9946\n",
            "Epoch 47/100\n",
            "7/7 [==============================] - 20s 3s/step - loss: 0.8717 - acc: 0.9247 - auc: 0.9809 - val_loss: 1.0442 - val_acc: 0.8955 - val_auc: 0.9437\n",
            "Epoch 48/100\n",
            "7/7 [==============================] - 20s 3s/step - loss: 0.9030 - acc: 0.9143 - auc: 0.9767 - val_loss: 0.8167 - val_acc: 0.9552 - val_auc: 0.9875\n",
            "Epoch 49/100\n",
            "7/7 [==============================] - 20s 3s/step - loss: 0.8167 - acc: 0.9377 - auc: 0.9899 - val_loss: 0.7618 - val_acc: 0.9552 - val_auc: 0.9982\n",
            "Epoch 50/100\n",
            "7/7 [==============================] - 20s 3s/step - loss: 0.8316 - acc: 0.9351 - auc: 0.9838 - val_loss: 0.9880 - val_acc: 0.9254 - val_auc: 0.9531\n",
            "Epoch 51/100\n",
            "7/7 [==============================] - 20s 3s/step - loss: 0.7625 - acc: 0.9714 - auc: 0.9920 - val_loss: 0.8343 - val_acc: 0.9701 - val_auc: 0.9746\n",
            "Epoch 52/100\n",
            "7/7 [==============================] - 19s 3s/step - loss: 0.7851 - acc: 0.9403 - auc: 0.9883 - val_loss: 0.9480 - val_acc: 0.8955 - val_auc: 0.9621\n",
            "Epoch 53/100\n",
            "7/7 [==============================] - 20s 3s/step - loss: 0.7539 - acc: 0.9506 - auc: 0.9898 - val_loss: 0.9374 - val_acc: 0.8358 - val_auc: 0.9509\n",
            "Epoch 54/100\n",
            "7/7 [==============================] - 20s 3s/step - loss: 0.8007 - acc: 0.9091 - auc: 0.9797 - val_loss: 0.8064 - val_acc: 0.9403 - val_auc: 0.9768\n",
            "Epoch 55/100\n",
            "7/7 [==============================] - 20s 3s/step - loss: 0.7654 - acc: 0.9403 - auc: 0.9827 - val_loss: 0.8684 - val_acc: 0.9254 - val_auc: 0.9652\n",
            "Epoch 56/100\n",
            "7/7 [==============================] - 20s 3s/step - loss: 0.8392 - acc: 0.9143 - auc: 0.9746 - val_loss: 0.9311 - val_acc: 0.8955 - val_auc: 0.9607\n",
            "Epoch 57/100\n",
            "7/7 [==============================] - 20s 3s/step - loss: 0.7377 - acc: 0.9506 - auc: 0.9902 - val_loss: 0.8946 - val_acc: 0.9104 - val_auc: 0.9634\n",
            "Epoch 58/100\n",
            "7/7 [==============================] - 20s 3s/step - loss: 0.8667 - acc: 0.9091 - auc: 0.9699 - val_loss: 0.8973 - val_acc: 0.9104 - val_auc: 0.9714\n",
            "Epoch 59/100\n",
            "7/7 [==============================] - 20s 3s/step - loss: 0.7566 - acc: 0.9584 - auc: 0.9908 - val_loss: 0.9011 - val_acc: 0.9254 - val_auc: 0.9687\n",
            "Epoch 60/100\n",
            "7/7 [==============================] - 20s 3s/step - loss: 0.7784 - acc: 0.9403 - auc: 0.9858 - val_loss: 0.7927 - val_acc: 0.9104 - val_auc: 0.9848\n",
            "Epoch 61/100\n",
            "7/7 [==============================] - 20s 3s/step - loss: 0.7283 - acc: 0.9584 - auc: 0.9920 - val_loss: 0.8382 - val_acc: 0.8955 - val_auc: 0.9763\n",
            "Epoch 62/100\n",
            "7/7 [==============================] - 20s 3s/step - loss: 0.7899 - acc: 0.9351 - auc: 0.9791 - val_loss: 0.8790 - val_acc: 0.8955 - val_auc: 0.9496\n",
            "Epoch 63/100\n",
            "7/7 [==============================] - 20s 3s/step - loss: 0.7790 - acc: 0.9247 - auc: 0.9792 - val_loss: 1.0540 - val_acc: 0.8507 - val_auc: 0.9205\n",
            "Epoch 64/100\n",
            "7/7 [==============================] - 19s 3s/step - loss: 0.7450 - acc: 0.9273 - auc: 0.9840 - val_loss: 0.7706 - val_acc: 0.9701 - val_auc: 0.9705\n",
            "Epoch 65/100\n",
            "7/7 [==============================] - 19s 3s/step - loss: 0.7478 - acc: 0.9377 - auc: 0.9855 - val_loss: 0.9087 - val_acc: 0.8806 - val_auc: 0.9420\n",
            "Epoch 66/100\n",
            "7/7 [==============================] - 19s 3s/step - loss: 0.7645 - acc: 0.9221 - auc: 0.9829 - val_loss: 1.0092 - val_acc: 0.8955 - val_auc: 0.9397\n",
            "Epoch 67/100\n",
            "7/7 [==============================] - 20s 3s/step - loss: 0.8104 - acc: 0.9377 - auc: 0.9733 - val_loss: 0.9071 - val_acc: 0.8955 - val_auc: 0.9589\n",
            "Epoch 68/100\n",
            "7/7 [==============================] - 20s 3s/step - loss: 0.7499 - acc: 0.9403 - auc: 0.9871 - val_loss: 0.8743 - val_acc: 0.8955 - val_auc: 0.9580\n",
            "Epoch 69/100\n",
            "7/7 [==============================] - 20s 3s/step - loss: 0.7290 - acc: 0.9584 - auc: 0.9906 - val_loss: 0.8382 - val_acc: 0.9552 - val_auc: 0.9571\n",
            "Epoch 70/100\n",
            "7/7 [==============================] - 20s 3s/step - loss: 0.6981 - acc: 0.9584 - auc: 0.9939 - val_loss: 0.7088 - val_acc: 0.9552 - val_auc: 0.9929\n",
            "Epoch 71/100\n",
            "7/7 [==============================] - 20s 3s/step - loss: 0.7075 - acc: 0.9429 - auc: 0.9892 - val_loss: 0.7275 - val_acc: 0.9254 - val_auc: 0.9884\n",
            "Epoch 72/100\n",
            "7/7 [==============================] - 20s 3s/step - loss: 0.7103 - acc: 0.9429 - auc: 0.9850 - val_loss: 0.6736 - val_acc: 0.9851 - val_auc: 0.9795\n",
            "Epoch 73/100\n",
            "7/7 [==============================] - 19s 3s/step - loss: 0.7148 - acc: 0.9273 - auc: 0.9837 - val_loss: 0.7783 - val_acc: 0.9104 - val_auc: 0.9728\n",
            "Epoch 74/100\n",
            "7/7 [==============================] - 20s 3s/step - loss: 0.6739 - acc: 0.9481 - auc: 0.9895 - val_loss: 0.7966 - val_acc: 0.8806 - val_auc: 0.9665\n",
            "Epoch 75/100\n",
            "7/7 [==============================] - 20s 3s/step - loss: 0.7259 - acc: 0.9195 - auc: 0.9809 - val_loss: 0.7548 - val_acc: 0.9104 - val_auc: 0.9754\n",
            "Epoch 76/100\n",
            "7/7 [==============================] - 20s 3s/step - loss: 0.6698 - acc: 0.9532 - auc: 0.9914 - val_loss: 0.8879 - val_acc: 0.8358 - val_auc: 0.9589\n",
            "Epoch 77/100\n",
            "7/7 [==============================] - 19s 3s/step - loss: 0.7006 - acc: 0.9377 - auc: 0.9836 - val_loss: 0.7372 - val_acc: 0.8955 - val_auc: 0.9804\n",
            "Epoch 78/100\n",
            "7/7 [==============================] - 20s 3s/step - loss: 0.6982 - acc: 0.9455 - auc: 0.9861 - val_loss: 0.7565 - val_acc: 0.9403 - val_auc: 0.9692\n",
            "Epoch 79/100\n",
            "7/7 [==============================] - 19s 3s/step - loss: 0.7415 - acc: 0.9403 - auc: 0.9743 - val_loss: 0.8080 - val_acc: 0.8955 - val_auc: 0.9652\n",
            "Epoch 80/100\n",
            "7/7 [==============================] - 19s 3s/step - loss: 0.7682 - acc: 0.9169 - auc: 0.9741 - val_loss: 0.9202 - val_acc: 0.8657 - val_auc: 0.9424\n",
            "Epoch 81/100\n",
            "7/7 [==============================] - 19s 3s/step - loss: 0.6763 - acc: 0.9584 - auc: 0.9912 - val_loss: 0.8404 - val_acc: 0.9104 - val_auc: 0.9621\n",
            "Epoch 82/100\n",
            "7/7 [==============================] - 20s 3s/step - loss: 0.7291 - acc: 0.9325 - auc: 0.9844 - val_loss: 0.8218 - val_acc: 0.9104 - val_auc: 0.9679\n",
            "Epoch 83/100\n",
            "7/7 [==============================] - 20s 3s/step - loss: 0.7014 - acc: 0.9403 - auc: 0.9896 - val_loss: 0.7921 - val_acc: 0.8955 - val_auc: 0.9638\n",
            "Epoch 84/100\n",
            "7/7 [==============================] - 20s 3s/step - loss: 0.7227 - acc: 0.9377 - auc: 0.9848 - val_loss: 0.7246 - val_acc: 0.9552 - val_auc: 0.9830\n",
            "Epoch 85/100\n",
            "7/7 [==============================] - 20s 3s/step - loss: 0.6773 - acc: 0.9481 - auc: 0.9912 - val_loss: 0.7849 - val_acc: 0.9254 - val_auc: 0.9772\n",
            "Epoch 86/100\n",
            "7/7 [==============================] - 20s 3s/step - loss: 0.6861 - acc: 0.9403 - auc: 0.9848 - val_loss: 0.7722 - val_acc: 0.8955 - val_auc: 0.9665\n",
            "Epoch 87/100\n",
            "7/7 [==============================] - 20s 3s/step - loss: 0.6481 - acc: 0.9610 - auc: 0.9902 - val_loss: 0.7616 - val_acc: 0.9254 - val_auc: 0.9638\n",
            "Epoch 88/100\n",
            "7/7 [==============================] - 19s 3s/step - loss: 0.6597 - acc: 0.9455 - auc: 0.9871 - val_loss: 0.9626 - val_acc: 0.8507 - val_auc: 0.9205\n",
            "Epoch 89/100\n",
            "7/7 [==============================] - 20s 3s/step - loss: 0.6508 - acc: 0.9455 - auc: 0.9872 - val_loss: 0.7561 - val_acc: 0.9104 - val_auc: 0.9634\n",
            "Epoch 90/100\n",
            "7/7 [==============================] - 19s 3s/step - loss: 0.6301 - acc: 0.9481 - auc: 0.9890 - val_loss: 0.7444 - val_acc: 0.8806 - val_auc: 0.9732\n",
            "Epoch 91/100\n",
            "7/7 [==============================] - 20s 3s/step - loss: 0.6795 - acc: 0.9247 - auc: 0.9811 - val_loss: 0.7776 - val_acc: 0.8955 - val_auc: 0.9674\n",
            "Epoch 92/100\n",
            "7/7 [==============================] - 20s 3s/step - loss: 0.6762 - acc: 0.9351 - auc: 0.9828 - val_loss: 0.7306 - val_acc: 0.9104 - val_auc: 0.9732\n",
            "Epoch 93/100\n",
            "7/7 [==============================] - 20s 3s/step - loss: 0.6401 - acc: 0.9481 - auc: 0.9911 - val_loss: 0.6580 - val_acc: 0.9552 - val_auc: 0.9875\n",
            "Epoch 94/100\n",
            "7/7 [==============================] - 20s 3s/step - loss: 0.7171 - acc: 0.9247 - auc: 0.9787 - val_loss: 0.5894 - val_acc: 0.9552 - val_auc: 0.9982\n",
            "Epoch 95/100\n",
            "7/7 [==============================] - 20s 3s/step - loss: 0.6664 - acc: 0.9325 - auc: 0.9889 - val_loss: 0.6659 - val_acc: 0.9403 - val_auc: 0.9893\n",
            "Epoch 96/100\n",
            "7/7 [==============================] - 20s 3s/step - loss: 0.6848 - acc: 0.9351 - auc: 0.9865 - val_loss: 0.8123 - val_acc: 0.8657 - val_auc: 0.9571\n",
            "Epoch 97/100\n",
            "7/7 [==============================] - 20s 3s/step - loss: 0.7138 - acc: 0.9299 - auc: 0.9821 - val_loss: 0.7688 - val_acc: 0.9104 - val_auc: 0.9629\n",
            "Epoch 98/100\n",
            "7/7 [==============================] - 19s 3s/step - loss: 0.7089 - acc: 0.9351 - auc: 0.9845 - val_loss: 0.9775 - val_acc: 0.8507 - val_auc: 0.9406\n",
            "Epoch 99/100\n",
            "7/7 [==============================] - 20s 3s/step - loss: 0.7134 - acc: 0.9325 - auc: 0.9856 - val_loss: 0.7548 - val_acc: 0.9254 - val_auc: 0.9821\n",
            "Epoch 100/100\n",
            "7/7 [==============================] - 20s 3s/step - loss: 0.7201 - acc: 0.9403 - auc: 0.9845 - val_loss: 0.8213 - val_acc: 0.9403 - val_auc: 0.9527\n"
          ]
        }
      ]
    },
    {
      "cell_type": "markdown",
      "metadata": {
        "id": "UtXe9dUWr45t"
      },
      "source": [
        "***Results***"
      ]
    },
    {
      "cell_type": "code",
      "metadata": {
        "colab": {
          "base_uri": "https://localhost:8080/",
          "height": 545
        },
        "id": "26leflPQsM2F",
        "outputId": "d257a0dc-cf50-4a8e-9f44-1004a9e6582e"
      },
      "source": [
        "plt.figure(figsize=(15,4))\n",
        "plt.plot(history.history[\"acc\"],label=\"train acc\")\n",
        "plt.plot(history.history[\"val_acc\"], label=\"val acc\")\n",
        "plt.ylim(0.4,0.99)\n",
        "plt.title('Accuracy')\n",
        "plt.legend()\n",
        "plt.show()\n",
        "plt.figure(figsize=(15,4))\n",
        "plt.plot(history.history[\"loss\"],label=\"train loss\")\n",
        "plt.plot(history.history[\"val_loss\"], label=\"val loss\")\n",
        "plt.ylim(0,3)\n",
        "plt.title('Roc Auc')\n",
        "plt.legend()\n",
        "plt.show()"
      ],
      "execution_count": null,
      "outputs": [
        {
          "output_type": "display_data",
          "data": {
            "image/png": "[encoded data removed]",
            "text/plain": [
              "<Figure size 1080x288 with 1 Axes>"
            ]
          },
          "metadata": {
            "needs_background": "light"
          }
        },
        {
          "output_type": "display_data",
          "data": {
            "image/png": "[encoded data removed]",
            "text/plain": [
              "<Figure size 1080x288 with 1 Axes>"
            ]
          },
          "metadata": {
            "needs_background": "light"
          }
        }
      ]
    },
    {
      "cell_type": "code",
      "metadata": {
        "colab": {
          "base_uri": "https://localhost:8080/"
        },
        "id": "96hTRsWn_Osj",
        "outputId": "222fbc9d-6f20-4b97-90b0-1081b5036315"
      },
      "source": [
        "y_pred = model.predict(rescale(X_test))\n",
        "print('AUC score:', round(roc_auc_score(y_test, y_pred), 3))\n",
        "print('Accuracy:', round(accuracy_score(y_test, np.where(y_pred>0.2, 1, 0)), 3))"
      ],
      "execution_count": null,
      "outputs": [
        {
          "output_type": "stream",
          "name": "stdout",
          "text": [
            "AUC score: 0.692\n",
            "Accuracy: 0.665\n"
          ]
        }
      ]
    },
    {
      "cell_type": "markdown",
      "metadata": {
        "id": "o135Z9p6sAx5"
      },
      "source": [
        "***Save model***"
      ]
    },
    {
      "cell_type": "code",
      "metadata": {
        "id": "QL3qvlSr4Pzu"
      },
      "source": [
        "model.save(f'{models_dir}model_v{model_version}', overwrite=True)"
      ],
      "execution_count": null,
      "outputs": []
    },
    {
      "cell_type": "code",
      "metadata": {
        "colab": {
          "base_uri": "https://localhost:8080/"
        },
        "id": "oCFdMeWmmmjI",
        "outputId": "978ab936-b37c-4770-afd1-ab6c668b299e"
      },
      "source": [
        "!cd ${models_dir} && zip -r model_v${model_version}.zip model_v${model_version}"
      ],
      "execution_count": 30,
      "outputs": [
        {
          "output_type": "stream",
          "name": "stdout",
          "text": [
            "  adding: model_v3/ (stored 0%)\n",
            "  adding: model_v3/variables/ (stored 0%)\n",
            "  adding: model_v3/variables/variables.data-00000-of-00001 (deflated 7%)\n",
            "  adding: model_v3/variables/variables.index (deflated 77%)\n",
            "  adding: model_v3/assets/ (stored 0%)\n",
            "  adding: model_v3/saved_model.pb (deflated 92%)\n",
            "  adding: model_v3/keras_metadata.pb (deflated 96%)\n"
          ]
        }
      ]
    }
  ]
}